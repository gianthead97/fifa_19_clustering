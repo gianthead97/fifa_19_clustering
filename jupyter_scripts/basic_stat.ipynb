{
 "cells": [
  {
   "cell_type": "code",
   "execution_count": 2,
   "metadata": {},
   "outputs": [],
   "source": [
    "                                                                                                                                            import pandas as pd\n",
    "import matplotlib.pyplot as plt\n",
    "import numpy as np\n",
    "import seaborn as sns"
   ]
  },
  {
   "cell_type": "code",
   "execution_count": 7,
   "metadata": {},
   "outputs": [],
   "source": [
    "df = pd.read_csv('../data.csv', index_col = 0)"
   ]
  },
  {
   "cell_type": "code",
   "execution_count": 4,
   "metadata": {},
   "outputs": [
    {
     "data": {
      "text/html": [
       "<div>\n",
       "<style scoped>\n",
       "    .dataframe tbody tr th:only-of-type {\n",
       "        vertical-align: middle;\n",
       "    }\n",
       "\n",
       "    .dataframe tbody tr th {\n",
       "        vertical-align: top;\n",
       "    }\n",
       "\n",
       "    .dataframe thead th {\n",
       "        text-align: right;\n",
       "    }\n",
       "</style>\n",
       "<table border=\"1\" class=\"dataframe\">\n",
       "  <thead>\n",
       "    <tr style=\"text-align: right;\">\n",
       "      <th></th>\n",
       "      <th>ID</th>\n",
       "      <th>Age</th>\n",
       "      <th>Overall</th>\n",
       "      <th>Potential</th>\n",
       "      <th>Special</th>\n",
       "      <th>International Reputation</th>\n",
       "      <th>Weak Foot</th>\n",
       "      <th>Skill Moves</th>\n",
       "      <th>Jersey Number</th>\n",
       "      <th>Crossing</th>\n",
       "      <th>...</th>\n",
       "      <th>Penalties</th>\n",
       "      <th>Composure</th>\n",
       "      <th>Marking</th>\n",
       "      <th>StandingTackle</th>\n",
       "      <th>SlidingTackle</th>\n",
       "      <th>GKDiving</th>\n",
       "      <th>GKHandling</th>\n",
       "      <th>GKKicking</th>\n",
       "      <th>GKPositioning</th>\n",
       "      <th>GKReflexes</th>\n",
       "    </tr>\n",
       "  </thead>\n",
       "  <tbody>\n",
       "    <tr>\n",
       "      <th>count</th>\n",
       "      <td>18207.000000</td>\n",
       "      <td>18207.000000</td>\n",
       "      <td>18207.000000</td>\n",
       "      <td>18207.000000</td>\n",
       "      <td>18207.000000</td>\n",
       "      <td>18159.000000</td>\n",
       "      <td>18159.000000</td>\n",
       "      <td>18159.000000</td>\n",
       "      <td>18147.000000</td>\n",
       "      <td>18159.000000</td>\n",
       "      <td>...</td>\n",
       "      <td>18159.000000</td>\n",
       "      <td>18159.000000</td>\n",
       "      <td>18159.000000</td>\n",
       "      <td>18159.000000</td>\n",
       "      <td>18159.000000</td>\n",
       "      <td>18159.000000</td>\n",
       "      <td>18159.000000</td>\n",
       "      <td>18159.000000</td>\n",
       "      <td>18159.000000</td>\n",
       "      <td>18159.000000</td>\n",
       "    </tr>\n",
       "    <tr>\n",
       "      <th>mean</th>\n",
       "      <td>214298.338606</td>\n",
       "      <td>25.122206</td>\n",
       "      <td>66.238699</td>\n",
       "      <td>71.307299</td>\n",
       "      <td>1597.809908</td>\n",
       "      <td>1.113222</td>\n",
       "      <td>2.947299</td>\n",
       "      <td>2.361308</td>\n",
       "      <td>19.546096</td>\n",
       "      <td>49.734181</td>\n",
       "      <td>...</td>\n",
       "      <td>48.548598</td>\n",
       "      <td>58.648274</td>\n",
       "      <td>47.281623</td>\n",
       "      <td>47.697836</td>\n",
       "      <td>45.661435</td>\n",
       "      <td>16.616223</td>\n",
       "      <td>16.391596</td>\n",
       "      <td>16.232061</td>\n",
       "      <td>16.388898</td>\n",
       "      <td>16.710887</td>\n",
       "    </tr>\n",
       "    <tr>\n",
       "      <th>std</th>\n",
       "      <td>29965.244204</td>\n",
       "      <td>4.669943</td>\n",
       "      <td>6.908930</td>\n",
       "      <td>6.136496</td>\n",
       "      <td>272.586016</td>\n",
       "      <td>0.394031</td>\n",
       "      <td>0.660456</td>\n",
       "      <td>0.756164</td>\n",
       "      <td>15.947765</td>\n",
       "      <td>18.364524</td>\n",
       "      <td>...</td>\n",
       "      <td>15.704053</td>\n",
       "      <td>11.436133</td>\n",
       "      <td>19.904397</td>\n",
       "      <td>21.664004</td>\n",
       "      <td>21.289135</td>\n",
       "      <td>17.695349</td>\n",
       "      <td>16.906900</td>\n",
       "      <td>16.502864</td>\n",
       "      <td>17.034669</td>\n",
       "      <td>17.955119</td>\n",
       "    </tr>\n",
       "    <tr>\n",
       "      <th>min</th>\n",
       "      <td>16.000000</td>\n",
       "      <td>16.000000</td>\n",
       "      <td>46.000000</td>\n",
       "      <td>48.000000</td>\n",
       "      <td>731.000000</td>\n",
       "      <td>1.000000</td>\n",
       "      <td>1.000000</td>\n",
       "      <td>1.000000</td>\n",
       "      <td>1.000000</td>\n",
       "      <td>5.000000</td>\n",
       "      <td>...</td>\n",
       "      <td>5.000000</td>\n",
       "      <td>3.000000</td>\n",
       "      <td>3.000000</td>\n",
       "      <td>2.000000</td>\n",
       "      <td>3.000000</td>\n",
       "      <td>1.000000</td>\n",
       "      <td>1.000000</td>\n",
       "      <td>1.000000</td>\n",
       "      <td>1.000000</td>\n",
       "      <td>1.000000</td>\n",
       "    </tr>\n",
       "    <tr>\n",
       "      <th>25%</th>\n",
       "      <td>200315.500000</td>\n",
       "      <td>21.000000</td>\n",
       "      <td>62.000000</td>\n",
       "      <td>67.000000</td>\n",
       "      <td>1457.000000</td>\n",
       "      <td>1.000000</td>\n",
       "      <td>3.000000</td>\n",
       "      <td>2.000000</td>\n",
       "      <td>8.000000</td>\n",
       "      <td>38.000000</td>\n",
       "      <td>...</td>\n",
       "      <td>39.000000</td>\n",
       "      <td>51.000000</td>\n",
       "      <td>30.000000</td>\n",
       "      <td>27.000000</td>\n",
       "      <td>24.000000</td>\n",
       "      <td>8.000000</td>\n",
       "      <td>8.000000</td>\n",
       "      <td>8.000000</td>\n",
       "      <td>8.000000</td>\n",
       "      <td>8.000000</td>\n",
       "    </tr>\n",
       "    <tr>\n",
       "      <th>50%</th>\n",
       "      <td>221759.000000</td>\n",
       "      <td>25.000000</td>\n",
       "      <td>66.000000</td>\n",
       "      <td>71.000000</td>\n",
       "      <td>1635.000000</td>\n",
       "      <td>1.000000</td>\n",
       "      <td>3.000000</td>\n",
       "      <td>2.000000</td>\n",
       "      <td>17.000000</td>\n",
       "      <td>54.000000</td>\n",
       "      <td>...</td>\n",
       "      <td>49.000000</td>\n",
       "      <td>60.000000</td>\n",
       "      <td>53.000000</td>\n",
       "      <td>55.000000</td>\n",
       "      <td>52.000000</td>\n",
       "      <td>11.000000</td>\n",
       "      <td>11.000000</td>\n",
       "      <td>11.000000</td>\n",
       "      <td>11.000000</td>\n",
       "      <td>11.000000</td>\n",
       "    </tr>\n",
       "    <tr>\n",
       "      <th>75%</th>\n",
       "      <td>236529.500000</td>\n",
       "      <td>28.000000</td>\n",
       "      <td>71.000000</td>\n",
       "      <td>75.000000</td>\n",
       "      <td>1787.000000</td>\n",
       "      <td>1.000000</td>\n",
       "      <td>3.000000</td>\n",
       "      <td>3.000000</td>\n",
       "      <td>26.000000</td>\n",
       "      <td>64.000000</td>\n",
       "      <td>...</td>\n",
       "      <td>60.000000</td>\n",
       "      <td>67.000000</td>\n",
       "      <td>64.000000</td>\n",
       "      <td>66.000000</td>\n",
       "      <td>64.000000</td>\n",
       "      <td>14.000000</td>\n",
       "      <td>14.000000</td>\n",
       "      <td>14.000000</td>\n",
       "      <td>14.000000</td>\n",
       "      <td>14.000000</td>\n",
       "    </tr>\n",
       "    <tr>\n",
       "      <th>max</th>\n",
       "      <td>246620.000000</td>\n",
       "      <td>45.000000</td>\n",
       "      <td>94.000000</td>\n",
       "      <td>95.000000</td>\n",
       "      <td>2346.000000</td>\n",
       "      <td>5.000000</td>\n",
       "      <td>5.000000</td>\n",
       "      <td>5.000000</td>\n",
       "      <td>99.000000</td>\n",
       "      <td>93.000000</td>\n",
       "      <td>...</td>\n",
       "      <td>92.000000</td>\n",
       "      <td>96.000000</td>\n",
       "      <td>94.000000</td>\n",
       "      <td>93.000000</td>\n",
       "      <td>91.000000</td>\n",
       "      <td>90.000000</td>\n",
       "      <td>92.000000</td>\n",
       "      <td>91.000000</td>\n",
       "      <td>90.000000</td>\n",
       "      <td>94.000000</td>\n",
       "    </tr>\n",
       "  </tbody>\n",
       "</table>\n",
       "<p>8 rows × 43 columns</p>\n",
       "</div>"
      ],
      "text/plain": [
       "                  ID           Age       Overall     Potential       Special  \\\n",
       "count   18207.000000  18207.000000  18207.000000  18207.000000  18207.000000   \n",
       "mean   214298.338606     25.122206     66.238699     71.307299   1597.809908   \n",
       "std     29965.244204      4.669943      6.908930      6.136496    272.586016   \n",
       "min        16.000000     16.000000     46.000000     48.000000    731.000000   \n",
       "25%    200315.500000     21.000000     62.000000     67.000000   1457.000000   \n",
       "50%    221759.000000     25.000000     66.000000     71.000000   1635.000000   \n",
       "75%    236529.500000     28.000000     71.000000     75.000000   1787.000000   \n",
       "max    246620.000000     45.000000     94.000000     95.000000   2346.000000   \n",
       "\n",
       "       International Reputation     Weak Foot   Skill Moves  Jersey Number  \\\n",
       "count              18159.000000  18159.000000  18159.000000   18147.000000   \n",
       "mean                   1.113222      2.947299      2.361308      19.546096   \n",
       "std                    0.394031      0.660456      0.756164      15.947765   \n",
       "min                    1.000000      1.000000      1.000000       1.000000   \n",
       "25%                    1.000000      3.000000      2.000000       8.000000   \n",
       "50%                    1.000000      3.000000      2.000000      17.000000   \n",
       "75%                    1.000000      3.000000      3.000000      26.000000   \n",
       "max                    5.000000      5.000000      5.000000      99.000000   \n",
       "\n",
       "           Crossing  ...     Penalties     Composure       Marking  \\\n",
       "count  18159.000000  ...  18159.000000  18159.000000  18159.000000   \n",
       "mean      49.734181  ...     48.548598     58.648274     47.281623   \n",
       "std       18.364524  ...     15.704053     11.436133     19.904397   \n",
       "min        5.000000  ...      5.000000      3.000000      3.000000   \n",
       "25%       38.000000  ...     39.000000     51.000000     30.000000   \n",
       "50%       54.000000  ...     49.000000     60.000000     53.000000   \n",
       "75%       64.000000  ...     60.000000     67.000000     64.000000   \n",
       "max       93.000000  ...     92.000000     96.000000     94.000000   \n",
       "\n",
       "       StandingTackle  SlidingTackle      GKDiving    GKHandling  \\\n",
       "count    18159.000000   18159.000000  18159.000000  18159.000000   \n",
       "mean        47.697836      45.661435     16.616223     16.391596   \n",
       "std         21.664004      21.289135     17.695349     16.906900   \n",
       "min          2.000000       3.000000      1.000000      1.000000   \n",
       "25%         27.000000      24.000000      8.000000      8.000000   \n",
       "50%         55.000000      52.000000     11.000000     11.000000   \n",
       "75%         66.000000      64.000000     14.000000     14.000000   \n",
       "max         93.000000      91.000000     90.000000     92.000000   \n",
       "\n",
       "          GKKicking  GKPositioning    GKReflexes  \n",
       "count  18159.000000   18159.000000  18159.000000  \n",
       "mean      16.232061      16.388898     16.710887  \n",
       "std       16.502864      17.034669     17.955119  \n",
       "min        1.000000       1.000000      1.000000  \n",
       "25%        8.000000       8.000000      8.000000  \n",
       "50%       11.000000      11.000000     11.000000  \n",
       "75%       14.000000      14.000000     14.000000  \n",
       "max       91.000000      90.000000     94.000000  \n",
       "\n",
       "[8 rows x 43 columns]"
      ]
     },
     "execution_count": 4,
     "metadata": {},
     "output_type": "execute_result"
    }
   ],
   "source": [
    "df[['Overall', 'Potential', 'Penalties']].describe()"
   ]
  },
  {
   "cell_type": "code",
   "execution_count": 6,
   "metadata": {},
   "outputs": [],
   "source": [
    "def fix_value(x: str) -> str:\n",
    "    if (x.find('.') == -1):\n",
    "        return x\n",
    "    else:\n",
    "        return x[:len(x)-1].replace('.', '')"
   ]
  },
  {
   "cell_type": "code",
   "execution_count": 9,
   "metadata": {},
   "outputs": [],
   "source": [
    "df['Release Clause'] = df[['Release Clause']].fillna('nan')"
   ]
  },
  {
   "cell_type": "code",
   "execution_count": 10,
   "metadata": {},
   "outputs": [
    {
     "name": "stderr",
     "output_type": "stream",
     "text": [
      "/home/nikjan/.local/lib/python3.6/site-packages/ipykernel_launcher.py:6: FutureWarning: convert_objects is deprecated.  To re-infer data dtypes for object columns, use Series.infer_objects()\n",
      "For all other conversions use the data-type specific converters pd.to_datetime, pd.to_timedelta and pd.to_numeric.\n",
      "  \n"
     ]
    }
   ],
   "source": [
    "df['Release Clause'] = df['Release Clause'].replace({\n",
    "    '€': '',\n",
    "    'M': '00000',\n",
    "    'K': '000',\n",
    "}, regex=True).apply(fix_value).convert_objects(convert_numeric=True)"
   ]
  },
  {
   "cell_type": "code",
   "execution_count": 51,
   "metadata": {},
   "outputs": [
    {
     "data": {
      "text/plain": [
       "<Figure size 1440x864 with 0 Axes>"
      ]
     },
     "metadata": {},
     "output_type": "display_data"
    },
    {
     "data": {
      "image/png": "[encoded data removed]",
      "text/plain": [
       "<Figure size 432x432 with 3 Axes>"
      ]
     },
     "metadata": {
      "needs_background": "light"
     },
     "output_type": "display_data"
    }
   ],
   "source": [
    "%matplotlib inline\n",
    "df = df.interpolate()\n",
    "fig = plt.figure(figsize=(20, 12))\n",
    "g1 = sns.jointplot(df['Age'], df['Overall'], kind='kde', color='m')\n",
    "plt.savefig('../stat1')"
   ]
  },
  {
   "cell_type": "code",
   "execution_count": 52,
   "metadata": {},
   "outputs": [
    {
     "data": {
      "image/png": "[encoded data removed]",
      "text/plain": [
       "<Figure size 432x288 with 1 Axes>"
      ]
     },
     "metadata": {
      "needs_background": "light"
     },
     "output_type": "display_data"
    }
   ],
   "source": [
    "g2 = sns.distplot(df['Release Clause'])\n",
    "plt.savefig('../stat2')"
   ]
  },
  {
   "cell_type": "code",
   "execution_count": 11,
   "metadata": {},
   "outputs": [
    {
     "data": {
      "image/png": "[encoded data removed]",
      "text/plain": [
       "<Figure size 1440x864 with 1 Axes>"
      ]
     },
     "metadata": {
      "needs_background": "light"
     },
     "output_type": "display_data"
    }
   ],
   "source": [
    "%matplotlib inline\n",
    "fig = plt.figure(figsize=(20,12))\n",
    "players = df.groupby('Nationality').filter(lambda x: len(x) > 500)\n",
    "nations = players.groupby('Nationality')\n",
    "bar_low60 = []\n",
    "bar_60_70 = []\n",
    "bar_70_80 = []\n",
    "bar_over80 = []\n",
    "for name, _ in nations:\n",
    "    country = players[players.Nationality == name]\n",
    "    bar_over80.append(country[country.Overall > 80]['ID'].count())\n",
    "    bar_70_80.append(country[(60 < country.Overall) & (70 > country.Overall)]['ID'].count())\n",
    "    bar_60_70.append(country[(70 < country.Overall) & (80 > country.Overall)]['ID'].count())\n",
    "    bar_low60.append(country[country.Overall < 60]['ID'].count())\n",
    "    \n",
    "barWidth = 0.35\n",
    "x1 = np.arange(0, 2*len(bar_60_70), 2)\n",
    "x2 = [barWidth + t for t in x1]\n",
    "x3 = [barWidth + t for t in x2]\n",
    "x4 = [barWidth + t for t in x3]\n",
    "plt.bar(x1, bar_low60, width=barWidth, color='m', label='<60')    \n",
    "plt.bar(x2, bar_60_70, width=barWidth, label='60-70')\n",
    "plt.bar(x3, bar_70_80, width=barWidth, label='70-80')\n",
    "plt.bar(x4, bar_over80, width=barWidth, label='>80')\n",
    "\n",
    "plt.xticks(range(0, 15, 2), [name for name, _ in nations], rotation=60, fontsize=20)\n",
    "plt.legend(fontsize='xx-large')\n",
    "plt.savefig('../stat3')"
   ]
  },
  {
   "cell_type": "code",
   "execution_count": null,
   "metadata": {},
   "outputs": [],
   "source": []
  }
 ],
 "metadata": {
  "kernelspec": {
   "display_name": "Python 3",
   "language": "python",
   "name": "python3"
  },
  "language_info": {
   "codemirror_mode": {
    "name": "ipython",
    "version": 3
   },
   "file_extension": ".py",
   "mimetype": "text/x-python",
   "name": "python",
   "nbconvert_exporter": "python",
   "pygments_lexer": "ipython3",
   "version": "3.6.7"
  }
 },
 "nbformat": 4,
 "nbformat_minor": 2
}
