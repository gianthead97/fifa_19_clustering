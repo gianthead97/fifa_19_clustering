{
 "cells": [
  {
   "cell_type": "code",
   "execution_count": 1,
   "metadata": {},
   "outputs": [],
   "source": [
    "import pandas as pd\n",
    "from sklearn.preprocessing import MinMaxScaler"
   ]
  },
  {
   "cell_type": "markdown",
   "metadata": {},
   "source": [
    "### Učitavanje podataka i odbacivanje atributa koji neće biti koriščeni u analizi\n",
    "### Interpolacija zbog elimisanja nedostajućih vrednosti"
   ]
  },
  {
   "cell_type": "code",
   "execution_count": 2,
   "metadata": {},
   "outputs": [],
   "source": [
    "df = pd.read_csv('../data.csv')\n",
    "df = df.drop(df.columns[0], axis=1)\n",
    "IDS = df['ID']\n",
    "df = df.drop(['ID', 'Name', 'Photo', 'Club', 'Club Logo',\n",
    "        'Flag', 'Special', 'Jersey Number',\n",
    "        'Contract Valid Until', 'Loaned From',\n",
    "        'Joined', 'Work Rate', 'Body Type', 'Real Face',\n",
    "        'LS', 'ST', 'RS', 'LW', 'LF', 'CF', 'RF', 'RW', \n",
    "        'LAM', 'CAM', 'RAM', 'LM', 'LCM',\n",
    "        'CM', 'RCM', 'RM', 'LWB', 'LDM', 'CDM', 'RDM', \n",
    "        'RWB', 'LB', 'LCB', 'CB', 'RCB', 'RB'], axis=1)\n",
    "df = df.interpolate()"
   ]
  },
  {
   "cell_type": "markdown",
   "metadata": {},
   "source": [
    "### Parsiranje nekoliko kolona gde su numerički podaci zadati u nekom obliku stringa"
   ]
  },
  {
   "cell_type": "code",
   "execution_count": 3,
   "metadata": {},
   "outputs": [],
   "source": [
    "df.replace({\n",
    "    'Left': 0,\n",
    "    'Right': 1\n",
    "}, inplace=True)"
   ]
  },
  {
   "cell_type": "code",
   "execution_count": 4,
   "metadata": {},
   "outputs": [
    {
     "name": "stderr",
     "output_type": "stream",
     "text": [
      "/home/nikjan/.local/lib/python3.6/site-packages/ipykernel_launcher.py:5: FutureWarning: convert_objects is deprecated.  To re-infer data dtypes for object columns, use DataFrame.infer_objects()\n",
      "For all other conversions use the data-type specific converters pd.to_datetime, pd.to_timedelta and pd.to_numeric.\n",
      "  \"\"\"\n"
     ]
    }
   ],
   "source": [
    "df['Wage'] = df[['Wage']].replace(\n",
    "    {'€':'', \n",
    "    'K': '00',\n",
    "    'M': '00000'\n",
    "    }, regex=True).convert_objects(convert_numeric=True)"
   ]
  },
  {
   "cell_type": "code",
   "execution_count": 5,
   "metadata": {},
   "outputs": [],
   "source": [
    "def fix_value(x: str) -> str:\n",
    "    if (x.find('.') == -1):\n",
    "        return x\n",
    "    else:\n",
    "        return x[:len(x)-1].replace('.', '')"
   ]
  },
  {
   "cell_type": "code",
   "execution_count": 6,
   "metadata": {},
   "outputs": [],
   "source": [
    "df['Release Clause'] = df[['Release Clause']].fillna('nan')\n",
    "df['Height'] = df[['Height']].fillna('nan')"
   ]
  },
  {
   "cell_type": "code",
   "execution_count": 7,
   "metadata": {},
   "outputs": [
    {
     "name": "stderr",
     "output_type": "stream",
     "text": [
      "/home/nikjan/.local/lib/python3.6/site-packages/ipykernel_launcher.py:5: FutureWarning: convert_objects is deprecated.  To re-infer data dtypes for object columns, use Series.infer_objects()\n",
      "For all other conversions use the data-type specific converters pd.to_datetime, pd.to_timedelta and pd.to_numeric.\n",
      "  \"\"\"\n"
     ]
    }
   ],
   "source": [
    "    df['Release Clause'] = df['Release Clause'].replace({\n",
    "        '€': '',\n",
    "        'M': '00000',\n",
    "        'K': '000',\n",
    "    }, regex=True).apply(fix_value).convert_objects(convert_numeric=True)"
   ]
  },
  {
   "cell_type": "code",
   "execution_count": 8,
   "metadata": {},
   "outputs": [
    {
     "name": "stderr",
     "output_type": "stream",
     "text": [
      "/home/nikjan/.local/lib/python3.6/site-packages/ipykernel_launcher.py:5: FutureWarning: convert_objects is deprecated.  To re-infer data dtypes for object columns, use Series.infer_objects()\n",
      "For all other conversions use the data-type specific converters pd.to_datetime, pd.to_timedelta and pd.to_numeric.\n",
      "  \"\"\"\n"
     ]
    }
   ],
   "source": [
    "df['Value'] = df['Value'].replace({\n",
    "    '€': '',\n",
    "    'M': '000000',\n",
    "    'K': '000'\n",
    "}, regex=True).map(fix_value).convert_objects(convert_numeric=True)"
   ]
  },
  {
   "cell_type": "markdown",
   "metadata": {},
   "source": [
    "### Mapiranje pozicija igrača na terenu u numeričke vrednosti koje predstavljaju na kom mestu na terenu je angažovan igrač na toj poziciji"
   ]
  },
  {
   "cell_type": "code",
   "execution_count": 9,
   "metadata": {},
   "outputs": [],
   "source": [
    "df['Position'].replace({\n",
    "    'GK': 0.0,\n",
    "    'CB': 1.0,\n",
    "    'LCB': 1.0,\n",
    "    'RCB': 1.0,\n",
    "    'LB': 1.5,\n",
    "    'RB': 1.5,\n",
    "    'RWB': 1.9,\n",
    "    'LWB': 1.9,\n",
    "    'CM': 2,\n",
    "    'LCM': 2,\n",
    "    'RCM': 2,\n",
    "    'CDM': 1.5,\n",
    "    'LDM': 1.5,\n",
    "    'RDM': 1.5,\n",
    "    'LM': 2.5,\n",
    "    'RM': 2.5,\n",
    "    'RAM': 3,\n",
    "    'CAM': 3,\n",
    "    'LAM': 3,\n",
    "    'LW': 3.5,\n",
    "    'RW': 3.5,\n",
    "    'CF': 3.8,\n",
    "    'LF': 3.8,\n",
    "    'RF': 3.8,\n",
    "    'LS': 3.9,\n",
    "    'RS': 3.9,\n",
    "    'ST': 4.2\n",
    "}, inplace=True)"
   ]
  },
  {
   "cell_type": "code",
   "execution_count": 10,
   "metadata": {},
   "outputs": [],
   "source": [
    "def convert_feet_to_centimeters(x : str) -> float:\n",
    "    if (x == 'nan'):\n",
    "        return x\n",
    "    digits = x.split('\\'')\n",
    "    inches = int(digits[1]) + 12 * int(digits[0])\n",
    "    return (inches * 2.54)"
   ]
  },
  {
   "cell_type": "code",
   "execution_count": 11,
   "metadata": {},
   "outputs": [],
   "source": [
    "df['Height'] = df['Height'].map(convert_feet_to_centimeters)"
   ]
  },
  {
   "cell_type": "code",
   "execution_count": 12,
   "metadata": {},
   "outputs": [],
   "source": [
    "df['Weight'].replace('lbs', '', regex=True, inplace=True)"
   ]
  },
  {
   "cell_type": "markdown",
   "metadata": {},
   "source": [
    "### Učitvavanje koordinata različitih država napravljene pomoću modula geopandas"
   ]
  },
  {
   "cell_type": "code",
   "execution_count": 13,
   "metadata": {},
   "outputs": [],
   "source": [
    "geodf = pd.read_csv('../geo_position.csv', index_col=0)"
   ]
  },
  {
   "cell_type": "code",
   "execution_count": 14,
   "metadata": {},
   "outputs": [],
   "source": [
    "def convert_nationality_to_geo_pos(country):\n",
    "    if country in ['England', 'Wales', 'Scotland', 'Northern Ireland']:\n",
    "        ctr = geodf.loc[geodf['Country'] == 'United Kingdom']\n",
    "    elif country == 'Bosnia Herzegovina':\n",
    "        ctr = geodf.loc[geodf['Country'] == 'Bosnia and Herz.']\n",
    "    elif country == 'Korea Republic':\n",
    "        ctr = geodf.loc[geodf['Country'] == 'South Korea']\n",
    "    elif country == 'Czech Republic':\n",
    "        ctr = geodf.loc[geodf['Country'] == 'Czechia']\n",
    "    elif country == 'DR Congo':\n",
    "        ctr = geodf.loc[geodf['Country'] == 'Dem. Rep. Congo']\n",
    "    elif country == 'Ivory Coast':\n",
    "        ctr = geodf.loc[geodf['Country'] == 'Côte d\\'Ivoire']\n",
    "    elif country == 'Dominican Republic':\n",
    "        ctr = geodf.loc[geodf['Country'] == 'Dominican Rep.']\n",
    "    elif country == 'Republic of Ireland':\n",
    "        ctr = geodf.loc[geodf['Country'] == 'Ireland']\n",
    "    elif country == 'United States':\n",
    "        ctr = geodf.loc[geodf['Country'] == 'United States of America']\n",
    "    elif country == 'Equatorial Guinea':\n",
    "        ctr = geodf.loc[geodf['Country'] == 'Eq. Guinea']\n",
    "    elif country == 'FYR Macedonia':\n",
    "        ctr = geodf.loc[geodf['Country'] == 'Macedonia']\n",
    "    elif country == 'China PR':\n",
    "        ctr = geodf.loc[geodf['Country'] == 'China']\n",
    "    elif country == 'Guinea Bissau':\n",
    "        ctr = geodf.loc[geodf['Country'] == 'Guinea-Bissau']\n",
    "    elif country == 'Trinidad & Tobago':\n",
    "        ctr = geodf.loc[geodf['Country'] == 'Trinidad and Tobago']\n",
    "    elif country == 'Korea DPR':\n",
    "        ctr = geodf.loc[geodf['Country'] == 'North Korea']\n",
    "    elif country == 'Liechtenstein':\n",
    "        ctr = geodf.loc[geodf['Country'] == 'Switzerland']\n",
    "    elif country == 'Faroe Islands':\n",
    "        ctr = geodf.loc[geodf['Country'] == 'Iceland']\n",
    "    else:\n",
    "        ctr = geodf.loc[geodf['Country'] == country]\n",
    "    \n",
    "    if ctr.empty:\n",
    "        return (float('nan'), float('nan'))\n",
    "    return (float(ctr['Longitude']), float(ctr['Latitude']))"
   ]
  },
  {
   "cell_type": "code",
   "execution_count": 15,
   "metadata": {},
   "outputs": [],
   "source": [
    "t = map(lambda x: convert_nationality_to_geo_pos(x),df['Nationality'])"
   ]
  },
  {
   "cell_type": "code",
   "execution_count": 16,
   "metadata": {},
   "outputs": [],
   "source": [
    "longitude = []\n",
    "latitude = []\n",
    "for (x, y) in t:\n",
    "    longitude.append(x)\n",
    "    latitude.append(y)\n"
   ]
  },
  {
   "cell_type": "code",
   "execution_count": 17,
   "metadata": {},
   "outputs": [],
   "source": [
    "df['LongOfCountry'] = longitude\n",
    "df['LatitOfCountry'] = latitude\n",
    "df.drop('Nationality', axis = 1, inplace=True)"
   ]
  },
  {
   "cell_type": "code",
   "execution_count": null,
   "metadata": {},
   "outputs": [],
   "source": []
  },
  {
   "cell_type": "code",
   "execution_count": 18,
   "metadata": {},
   "outputs": [
    {
     "name": "stderr",
     "output_type": "stream",
     "text": [
      "/usr/local/lib/python3.6/dist-packages/sklearn/preprocessing/data.py:334: DataConversionWarning: Data with input dtype int64, float64, object were all converted to float64 by MinMaxScaler.\n",
      "  return self.partial_fit(X, y)\n"
     ]
    }
   ],
   "source": [
    "df_num_scaled = pd.DataFrame(MinMaxScaler().fit_transform(df))"
   ]
  },
  {
   "cell_type": "code",
   "execution_count": 1,
   "metadata": {},
   "outputs": [
    {
     "ename": "NameError",
     "evalue": "name 'df' is not defined",
     "output_type": "error",
     "traceback": [
      "\u001b[0;31m---------------------------------------------------------------------------\u001b[0m",
      "\u001b[0;31mNameError\u001b[0m                                 Traceback (most recent call last)",
      "\u001b[0;32m<ipython-input-1-af496f51392d>\u001b[0m in \u001b[0;36m<module>\u001b[0;34m\u001b[0m\n\u001b[0;32m----> 1\u001b[0;31m \u001b[0mdf_num_scaled\u001b[0m\u001b[0;34m.\u001b[0m\u001b[0mcolumns\u001b[0m \u001b[0;34m=\u001b[0m \u001b[0mdf\u001b[0m\u001b[0;34m.\u001b[0m\u001b[0mcolumns\u001b[0m\u001b[0;34m\u001b[0m\u001b[0;34m\u001b[0m\u001b[0m\n\u001b[0m\u001b[1;32m      2\u001b[0m \u001b[0mdf_num_scaled\u001b[0m \u001b[0;34m=\u001b[0m \u001b[0mpd\u001b[0m\u001b[0;34m.\u001b[0m\u001b[0mDataFrame\u001b[0m\u001b[0;34m(\u001b[0m\u001b[0mdf_num_scaled\u001b[0m\u001b[0;34m.\u001b[0m\u001b[0minterpolate\u001b[0m\u001b[0;34m(\u001b[0m\u001b[0;34m)\u001b[0m\u001b[0;34m)\u001b[0m\u001b[0;34m\u001b[0m\u001b[0;34m\u001b[0m\u001b[0m\n\u001b[1;32m      3\u001b[0m \u001b[0mdf_num_scaled\u001b[0m\u001b[0;34m[\u001b[0m\u001b[0;34m'ID'\u001b[0m\u001b[0;34m]\u001b[0m \u001b[0;34m=\u001b[0m \u001b[0mIDS\u001b[0m\u001b[0;34m\u001b[0m\u001b[0;34m\u001b[0m\u001b[0m\n\u001b[1;32m      4\u001b[0m \u001b[0mdf_num_scaled\u001b[0m\u001b[0;34m.\u001b[0m\u001b[0mhead\u001b[0m\u001b[0;34m(\u001b[0m\u001b[0;34m)\u001b[0m\u001b[0;34m\u001b[0m\u001b[0;34m\u001b[0m\u001b[0m\n",
      "\u001b[0;31mNameError\u001b[0m: name 'df' is not defined"
     ]
    }
   ],
   "source": [
    "df_num_scaled.columns = df.columns\n",
    "df_num_scaled = pd.DataFrame(df_num_scaled.interpolate())\n",
    "df_num_scaled['ID'] = IDS"
   ]
  },
  {
   "cell_type": "code",
   "execution_count": 20,
   "metadata": {},
   "outputs": [],
   "source": [
    "df_num_scaled.to_csv('../preprocessed_data.csv')"
   ]
  }
 ],
 "metadata": {
  "kernelspec": {
   "display_name": "Python 3",
   "language": "python",
   "name": "python3"
  },
  "language_info": {
   "codemirror_mode": {
    "name": "ipython",
    "version": 3
   },
   "file_extension": ".py",
   "mimetype": "text/x-python",
   "name": "python",
   "nbconvert_exporter": "python",
   "pygments_lexer": "ipython3",
   "version": "3.6.7"
  }
 },
 "nbformat": 4,
 "nbformat_minor": 2
}
