{
 "cells": [
  {
   "cell_type": "code",
   "execution_count": 18,
   "metadata": {},
   "outputs": [],
   "source": [
    "import pandas as pd\n",
    "from sklearn.cluster import AgglomerativeClustering\n",
    "import matplotlib.pyplot as plt\n",
    "from  sklearn.metrics import silhouette_score\n",
    "import numpy as np"
   ]
  },
  {
   "cell_type": "code",
   "execution_count": 7,
   "metadata": {},
   "outputs": [],
   "source": [
    "df = pd.read_csv('../data.csv', index_col=0)\n",
    "df_scaled = pd.read_csv('../preprocessed_data.csv', index_col=0)"
   ]
  },
  {
   "cell_type": "code",
   "execution_count": 1,
   "metadata": {},
   "outputs": [],
   "source": [
    "colors = ['deeppink', 'darkgreen', 'brown', 'cyan',\n",
    "         'grey', 'red', 'blue', 'navy',\n",
    "         'black', 'orange', 'orchid']"
   ]
  },
  {
   "cell_type": "code",
   "execution_count": 38,
   "metadata": {},
   "outputs": [
    {
     "name": "stdout",
     "output_type": "stream",
     "text": [
      "complete\n",
      "3\n",
      "0.16111395901587666\n",
      "complete\n",
      "4\n",
      "0.15463340908414164\n",
      "complete\n",
      "5\n",
      "0.10867388502724343\n",
      "complete\n",
      "6\n",
      "0.10899681823968788\n",
      "complete\n",
      "7\n",
      "0.1163346869599695\n",
      "complete\n",
      "8\n",
      "0.08395732844533542\n",
      "complete\n",
      "9\n",
      "0.07767909227419069\n",
      "average\n",
      "3\n",
      "0.2709627878327729\n",
      "average\n",
      "4\n",
      "0.24091917722313702\n",
      "average\n",
      "5\n",
      "0.1728780322782311\n",
      "average\n",
      "6\n",
      "0.11372869517045374\n",
      "average\n",
      "7\n",
      "0.0960059077583922\n",
      "average\n",
      "8\n",
      "0.08104887570408535\n",
      "average\n",
      "9\n",
      "0.07844464901824208\n",
      "single\n",
      "3\n",
      "0.4411833673662859\n",
      "single\n",
      "4\n",
      "0.41806554059568624\n",
      "single\n",
      "5\n",
      "0.4043615186449922\n",
      "single\n",
      "6\n",
      "0.25612808527919223\n",
      "single\n",
      "7\n",
      "0.2544154870862858\n",
      "single\n",
      "8\n",
      "0.2531860438923068\n",
      "single\n",
      "9\n",
      "0.24743314095736932\n"
     ]
    }
   ],
   "source": [
    "# for link in ['complete', 'average', 'single']:\n",
    "#     for n in range(3, 10):\n",
    "#         est_agg = AgglomerativeClustering(n_clusters=n, linkage = link, affinity='euclidean')\n",
    "#         est_agg.fit(df_scaled)\n",
    "#         df['Labels'] = est_agg.labels_\n",
    "#         print(link)\n",
    "#         print(n)\n",
    "#         print(silhouette_score(df_scaled, est_agg.labels_))"
   ]
  },
  {
   "cell_type": "code",
   "execution_count": 11,
   "metadata": {},
   "outputs": [],
   "source": [
    "position_to_num = {\n",
    "    'GK': 0.0,\n",
    "    'CB': 1.0,\n",
    "    'LCB': 1.2,\n",
    "    'RCB': 1.6,\n",
    "    'LB': 2.7,\n",
    "    'RB': 3.2,\n",
    "    'LWB': 4.5,\n",
    "    'RWB': 4.6,\n",
    "    'CM': 6,\n",
    "    'LCM': 6.2,\n",
    "    'RCM': 6.4,\n",
    "    'CDM': 5,\n",
    "    'LDM': 5.1,\n",
    "    'RDM': 5.3,\n",
    "    'LM': 6.5,\n",
    "    'RM': 6.7,\n",
    "    'RAM': 7.3,\n",
    "    'CAM': 7,\n",
    "    'LAM': 7.1,\n",
    "    'LW': 8.2,\n",
    "    'RW': 8.4,\n",
    "    'CF': 9.1,\n",
    "    'LF': 9.2,\n",
    "    'RF': 9.4,\n",
    "    'LS': 9.5,\n",
    "    'RS': 9.7,\n",
    "    'ST': 10\n",
    "}\n",
    "df['Position'].replace(position_to_num, inplace=True)"
   ]
  },
  {
   "cell_type": "code",
   "execution_count": 1,
   "metadata": {},
   "outputs": [],
   "source": [
    "from sklearn.decomposition import PCA"
   ]
  },
  {
   "cell_type": "code",
   "execution_count": 3,
   "metadata": {},
   "outputs": [
    {
     "ename": "NameError",
     "evalue": "name 'df_scaled' is not defined",
     "output_type": "error",
     "traceback": [
      "\u001b[0;31m---------------------------------------------------------------------------\u001b[0m",
      "\u001b[0;31mNameError\u001b[0m                                 Traceback (most recent call last)",
      "\u001b[0;32m<ipython-input-3-f3d0765ff1c3>\u001b[0m in \u001b[0;36m<module>\u001b[0;34m\u001b[0m\n\u001b[1;32m      1\u001b[0m \u001b[0mpca\u001b[0m \u001b[0;34m=\u001b[0m \u001b[0mPCA\u001b[0m\u001b[0;34m(\u001b[0m\u001b[0mn_components\u001b[0m\u001b[0;34m=\u001b[0m\u001b[0;36m3\u001b[0m\u001b[0;34m)\u001b[0m\u001b[0;34m\u001b[0m\u001b[0;34m\u001b[0m\u001b[0m\n\u001b[0;32m----> 2\u001b[0;31m \u001b[0mpca_df\u001b[0m \u001b[0;34m=\u001b[0m \u001b[0mpca\u001b[0m\u001b[0;34m.\u001b[0m\u001b[0mfit_transform\u001b[0m\u001b[0;34m(\u001b[0m\u001b[0mdf_scaled\u001b[0m\u001b[0;34m)\u001b[0m\u001b[0;34m\u001b[0m\u001b[0;34m\u001b[0m\u001b[0m\n\u001b[0m",
      "\u001b[0;31mNameError\u001b[0m: name 'df_scaled' is not defined"
     ]
    }
   ],
   "source": [
    "pca = PCA(n_components=3)\n",
    "pca_df = pca.fit_transform(df_scaled)"
   ]
  },
  {
   "cell_type": "code",
   "execution_count": 39,
   "metadata": {},
   "outputs": [],
   "source": [
    "est_agg = AgglomerativeClustering(n_clusters=4, linkage = 'single', affinity='euclidean')\n",
    "est_agg.fit(df_scaled)\n",
    "df['Labels'] = est_agg.labels_\n",
    "        "
   ]
  },
  {
   "cell_type": "code",
   "execution_count": 40,
   "metadata": {},
   "outputs": [
    {
     "name": "stderr",
     "output_type": "stream",
     "text": [
      "/home/nikjan/.local/lib/python3.6/site-packages/ipykernel_launcher.py:11: UserWarning: Boolean Series key will be reindexed to match DataFrame index.\n",
      "  # This is added back by InteractiveShellApp.init_path()\n"
     ]
    },
    {
     "data": {
      "image/png": "[encoded data removed]",
      "text/plain": [
       "<Figure size 432x288 with 1 Axes>"
      ]
     },
     "metadata": {
      "needs_background": "light"
     },
     "output_type": "display_data"
    }
   ],
   "source": [
    "\n",
    "plt.xlim(-0.2, 10.2)\n",
    "\n",
    "plt.xticks(np.array([v for k,v in position_to_num.items()]), ('GK', 'CB', 'LCB', 'RCB', 'LB', 'RB'\n",
    "                         ,'LWB', 'RWB', 'CDM', 'LDM', 'RDM'\n",
    "                         ,'CM', 'LCM', 'RCM', 'LM', 'RM', 'CAM'\n",
    "                         , 'LAM', 'RAM', 'LW', 'RW', 'CF', 'LF'\n",
    "                         , 'RF', 'LS', 'RS', 'ST'), rotation=60)\n",
    "\n",
    "for i in range(5):\n",
    "    cluster = df.sample(300)[df['Labels'] == i]\n",
    "    plt.scatter(y=cluster['Overall'], x=cluster['Position'], color=colors[i])\n",
    "    \n",
    "    \n",
    "plt.savefig('../agglomerative_11')"
   ]
  },
  {
   "cell_type": "code",
   "execution_count": null,
   "metadata": {},
   "outputs": [],
   "source": []
  }
 ],
 "metadata": {
  "kernelspec": {
   "display_name": "Python 3",
   "language": "python",
   "name": "python3"
  },
  "language_info": {
   "codemirror_mode": {
    "name": "ipython",
    "version": 3
   },
   "file_extension": ".py",
   "mimetype": "text/x-python",
   "name": "python",
   "nbconvert_exporter": "python",
   "pygments_lexer": "ipython3",
   "version": "3.6.7"
  }
 },
 "nbformat": 4,
 "nbformat_minor": 2
}
